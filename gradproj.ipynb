{
 "cells": [
  {
   "cell_type": "code",
   "execution_count": 3,
   "metadata": {},
   "outputs": [],
   "source": [
    "import numpy as np\n",
    "from math import log\n",
    "\n",
    "# pretty print for np.array \n",
    "# from https://stackoverflow.com/questions/53126305/pretty-printing-numpy-ndarrays-using-unicode-characters/53164538#53164538\n",
    "def pretty_print(A):\n",
    "    if A.ndim==1:\n",
    "        print(A)\n",
    "    else:\n",
    "        w = max([len(str(s)) for s in A]) \n",
    "        print(u'\\u250c' + u'\\u2500' * w + u'\\u2510') \n",
    "        for AA in A:\n",
    "            print(' ', end='')\n",
    "            print('[', end='')\n",
    "            for i, AAA in enumerate(AA[:-1]):\n",
    "                w1 = max([len(str(s)) for s in A[:, i]])\n",
    "                print(str(AAA) + ' ' * (w1  - len(str(AAA)) + 1), end='')\n",
    "            w1 = max([len(str(s)) for s in A[  :, -1]])\n",
    "            print(str(AA[-1]) + ' ' * (w1 - len(str(AA[-1]))), end='')\n",
    "            print(']')\n",
    "        print(u'\\u2514'+u'\\u2500' * w + u'\\u2518')  \n",
    "\n",
    "def compare(left: set, right: set):\n",
    "    if len(left) == len(right):\n",
    "        for i in range(len(left)):\n",
    "            if left[i] != right[i]:\n",
    "                return left[i] < right[i]\n",
    "    return left < right\n"
   ]
  },
  {
   "cell_type": "markdown",
   "metadata": {},
   "source": [
    "### Generate $\\mathcal{A}_n^2$"
   ]
  },
  {
   "cell_type": "markdown",
   "metadata": {},
   "source": [
    "> Let $|\\cdot|$ denotes cardinality and $\\Delta$ denote symmetric different"
   ]
  },
  {
   "cell_type": "code",
   "execution_count": 4,
   "metadata": {},
   "outputs": [],
   "source": [
    "def Delta(left: set, right: set):\n",
    "    return left.symmetric_difference(right)\n",
    "\n",
    "def Cardi(x: set):\n",
    "    return len(x)"
   ]
  },
  {
   "cell_type": "markdown",
   "metadata": {},
   "source": [
    "> Let $n=2^m$, $\\Omega$ be a set of $m$ element such that $|\\alpha_i| \\leq |\\alpha_{i+1}|$ and $|\\alpha_i \\Delta \\alpha_{i+1}| \\leq 2$  \n",
    "> Let $\\alpha_0=\\{\\varnothing\\}$, now genereate $\\Omega$"
   ]
  },
  {
   "cell_type": "markdown",
   "metadata": {},
   "source": [
    "> utils func for checking $|\\alpha_i| \\leq |\\alpha_{i+1}|$ and $|\\alpha_i \\Delta \\alpha_{i+1}| \\leq 2$  "
   ]
  },
  {
   "cell_type": "code",
   "execution_count": 5,
   "metadata": {},
   "outputs": [],
   "source": [
    "def legal(alpha_i: set, alpha_i_1: set):\n",
    "    return Cardi(alpha_i) <= Cardi(alpha_i_1) and Cardi(Delta(alpha_i, alpha_i_1)) <= 2\n",
    "\n",
    "def assert_omega(ome, _m, skip=0):\n",
    "    for i in range(0 + skip, len(ome) - 1):\n",
    "        if not legal(ome[i], ome[i + 1]):\n",
    "            print(ome[i], ome[i + 1])\n",
    "        assert(legal(ome[i], ome[i + 1]))\n",
    "    assert(len(ome) == 2**_m + 1)"
   ]
  },
  {
   "cell_type": "code",
   "execution_count": 6,
   "metadata": {},
   "outputs": [],
   "source": [
    "from itertools import chain, combinations\n",
    "\n",
    "# generate Omega\n",
    "def insert_one_element(initial_sets: list, super_end: int) -> list:\n",
    "    res = []\n",
    "    for initial_set in initial_sets:\n",
    "        avail_range = list(range(max(initial_set) + 1, super_end + 1))\n",
    "        if len(avail_range) == 0:\n",
    "            continue\n",
    "        if len(res) == 0 and avail_range[0] not in initial_sets[-1]:\n",
    "            avail_range.reverse()\n",
    "        elif len(res) != 0 and avail_range[0] not in res[-1]:\n",
    "            avail_range.reverse()\n",
    "        for avail_ele in avail_range:\n",
    "            if avail_ele in initial_set:\n",
    "                break\n",
    "            cur_res = initial_set.copy()\n",
    "            cur_res.add(avail_ele)\n",
    "            res.append(cur_res)\n",
    "    \n",
    "    return res\n",
    "\n",
    "def create_Omega(_m: int):\n",
    "    initial_sets = [{i + 1} for i in range(_m)]\n",
    "    grouped_res = [initial_sets]\n",
    "    for _ in range(1, _m):\n",
    "        grouped_res.append(insert_one_element(grouped_res[-1], _m))\n",
    "\n",
    "    res = [set(), set()]\n",
    "    for single_res in  grouped_res:\n",
    "        res.extend(single_res)\n",
    "    ### the follow code is for verification\n",
    "    s = list(range(1, _m + 1))\n",
    "    unoredered = list(chain.from_iterable(combinations(s, r) for r in range(len(s)+1)))\n",
    "    for ele in unoredered:\n",
    "        assert(set(ele) in res)\n",
    "    assert(len(unoredered) == len(res) - 1)\n",
    "    assert_omega(res, _m)\n",
    "    ### verification ends\n",
    "    return res\n"
   ]
  },
  {
   "cell_type": "code",
   "execution_count": 7,
   "metadata": {},
   "outputs": [
    {
     "data": {
      "text/plain": [
       "[set(),\n",
       " set(),\n",
       " {1},\n",
       " {2},\n",
       " {3},\n",
       " {4},\n",
       " {1, 4},\n",
       " {1, 3},\n",
       " {1, 2},\n",
       " {2, 4},\n",
       " {2, 3},\n",
       " {3, 4},\n",
       " {1, 3, 4},\n",
       " {1, 2, 3},\n",
       " {1, 2, 4},\n",
       " {2, 3, 4},\n",
       " {1, 2, 3, 4}]"
      ]
     },
     "execution_count": 7,
     "metadata": {},
     "output_type": "execute_result"
    }
   ],
   "source": [
    "# test\n",
    "_test_m = 4\n",
    "_test_omega = create_Omega(_test_m)\n",
    "_test_omega"
   ]
  },
  {
   "cell_type": "markdown",
   "metadata": {},
   "source": [
    "> now that we have $\\Omega = [a_{0}, a_{1}, ..., a_{k}]$, we can generate $A=\\{\\alpha_{ij}\\} \\in \\mathcal{A}_n^2$ by:  \n",
    "> $$a_{ij} = \\begin{cases}\n",
    "    -1,\\;\\alpha_j\\bigcap(\\alpha_{i-1}\\bigcup\\alpha_i)=\\alpha_{i-1}\\Delta\\alpha_{i}\\;and\\;|\\alpha_{i-1}\\Delta\\alpha_{i}|=2 \\\\\n",
    "    (-1)^{|\\alpha_{i-1}\\bigcap\\alpha_j| + 1},\\;\\alpha_{j}\\bigcap(\\alpha_{i-1}\\bigcup\\alpha_{i})\\neq\\varnothing\\;but\\;does\\;not\\;meet\\;the\\;condition\\;above \\\\\n",
    "    1,\\;\\alpha_j\\bigcap(\\alpha_{i-1}\\bigcup\\alpha_i)=\\varnothing \\\\\n",
    "\\end{cases}\n",
    "$$"
   ]
  },
  {
   "cell_type": "code",
   "execution_count": 8,
   "metadata": {},
   "outputs": [],
   "source": [
    "def query_element(i: int, j: int, _omega: list) -> int:\n",
    "    alpha_j = _omega[j + 1]\n",
    "    alpha_i_1 = _omega[i]\n",
    "    alpha_i = _omega[i + 1]\n",
    "\n",
    "    if alpha_j.intersection(alpha_i_1.union(alpha_i)) == Delta(alpha_i_1, alpha_i) \\\n",
    "        and Cardi(Delta(alpha_i_1, alpha_i)) == 2:\n",
    "        return -1\n",
    "    elif Cardi(alpha_j.intersection(alpha_i_1.union(alpha_i))) != 0:\n",
    "        return (-1)**(Cardi(alpha_i_1.intersection(alpha_j)) + 1)\n",
    "    elif Cardi(alpha_j.intersection(alpha_i_1.union(alpha_i))) == 0:\n",
    "        return 1\n",
    "    else:\n",
    "        raise ValueError(\"Undefined behavior!\")\n",
    "    \n",
    "def create_A(_omega, _m):\n",
    "    A_mat = np.zeros((2**_m, 2**_m))\n",
    "    for i in range(A_mat.shape[0]):\n",
    "        for j in range(A_mat.shape[1]):\n",
    "            A_mat[i, j] = query_element(i, j, _omega)\n",
    "    return A_mat"
   ]
  },
  {
   "cell_type": "code",
   "execution_count": 9,
   "metadata": {},
   "outputs": [
    {
     "name": "stdout",
     "output_type": "stream",
     "text": [
      "┌─────────────────────────────────────────────────┐\n",
      " [1 1  1  1  1  1  1  1  1  1  1  1  1  1  1  1 ]\n",
      " [1 -1 1  1  1  -1 -1 -1 1  1  1  -1 -1 -1 1  -1]\n",
      " [1 1  -1 1  1  1  1  -1 -1 -1 1  1  -1 -1 -1 -1]\n",
      " [1 1  1  -1 1  1  -1 1  1  -1 -1 -1 -1 1  -1 -1]\n",
      " [1 1  1  1  -1 -1 1  1  -1 1  -1 -1 1  -1 -1 -1]\n",
      " [1 -1 1  1  1  1  -1 -1 1  1  1  1  -1 1  1  1 ]\n",
      " [1 1  1  -1 1  -1 1  1  1  -1 -1 -1 1  -1 -1 -1]\n",
      " [1 1  -1 1  1  1  -1 1  -1 -1 1  -1 -1 1  -1 -1]\n",
      " [1 1  1  1  -1 -1 1  -1 1  1  -1 -1 -1 -1 1  -1]\n",
      " [1 1  1  -1 1  1  -1 1  -1 1  -1 -1 1  -1 -1 -1]\n",
      " [1 1  1  1  -1 -1 1  1  -1 -1 1  1  -1 -1 -1 -1]\n",
      " [1 -1 1  1  1  1  1  -1 1  1  -1 -1 1  1  -1 -1]\n",
      " [1 1  -1 1  1  -1 -1 1  -1 1  -1 1  -1 -1 -1 1 ]\n",
      " [1 1  1  1  -1 1  -1 -1 1  -1 -1 -1 1  -1 -1 1 ]\n",
      " [1 1  1  -1 1  -1 -1 -1 -1 1  1  -1 -1 1  -1 1 ]\n",
      " [1 -1 1  1  1  1  1  1  -1 -1 -1 -1 -1 -1 1  1 ]\n",
      "└─────────────────────────────────────────────────┘\n"
     ]
    }
   ],
   "source": [
    "# test\n",
    "A_mat = create_A(_test_omega, _test_m)\n",
    "pretty_print(A_mat.astype(int))"
   ]
  },
  {
   "cell_type": "markdown",
   "metadata": {},
   "source": [
    "### Check $A = LQ$"
   ]
  },
  {
   "cell_type": "markdown",
   "metadata": {},
   "source": [
    "> Let $Q$ be a $n$ by $n$ matrix given by $q_{ij} = (-1)^{|\\alpha_i \\bigcap \\alpha_j|}$, $Q$ is a symmetric Hadamard matrix, that is $Q^2=QQ^T=nI_n$  \n",
    "> now we check if $Q$ is a symmetric Hadamard matrix  "
   ]
  },
  {
   "cell_type": "code",
   "execution_count": 10,
   "metadata": {},
   "outputs": [
    {
     "name": "stdout",
     "output_type": "stream",
     "text": [
      "┌─────────────────────────────────────────────────┐\n",
      " [1 1  1  1  1  1  1  1  1  1  1  1  1  1  1  1 ]\n",
      " [1 -1 1  1  1  -1 -1 -1 1  1  1  -1 -1 -1 1  -1]\n",
      " [1 1  -1 1  1  1  1  -1 -1 -1 1  1  -1 -1 -1 -1]\n",
      " [1 1  1  -1 1  1  -1 1  1  -1 -1 -1 -1 1  -1 -1]\n",
      " [1 1  1  1  -1 -1 1  1  -1 1  -1 -1 1  -1 -1 -1]\n",
      " [1 -1 1  1  -1 1  -1 -1 -1 1  -1 1  -1 1  -1 1 ]\n",
      " [1 -1 1  -1 1  -1 1  -1 1  -1 -1 1  1  -1 -1 1 ]\n",
      " [1 -1 -1 1  1  -1 -1 1  -1 -1 1  -1 1  1  -1 1 ]\n",
      " [1 1  -1 1  -1 -1 1  -1 1  -1 -1 -1 -1 1  1  1 ]\n",
      " [1 1  -1 -1 1  1  -1 -1 -1 1  -1 -1 1  -1 1  1 ]\n",
      " [1 1  1  -1 -1 -1 -1 1  -1 -1 1  1  -1 -1 1  1 ]\n",
      " [1 -1 1  -1 -1 1  1  -1 -1 -1 1  -1 1  1  1  -1]\n",
      " [1 -1 -1 -1 1  -1 1  1  -1 1  -1 1  -1 1  1  -1]\n",
      " [1 -1 -1 1  -1 1  -1 1  1  -1 -1 1  1  -1 1  -1]\n",
      " [1 1  -1 -1 -1 -1 -1 -1 1  1  1  1  1  1  -1 -1]\n",
      " [1 -1 -1 -1 -1 1  1  1  1  1  1  -1 -1 -1 -1 1 ]\n",
      "└─────────────────────────────────────────────────┘\n",
      "┌─────────────────────────────────────────────────┐\n",
      " [16 0  0  0  0  0  0  0  0  0  0  0  0  0  0  0 ]\n",
      " [0  16 0  0  0  0  0  0  0  0  0  0  0  0  0  0 ]\n",
      " [0  0  16 0  0  0  0  0  0  0  0  0  0  0  0  0 ]\n",
      " [0  0  0  16 0  0  0  0  0  0  0  0  0  0  0  0 ]\n",
      " [0  0  0  0  16 0  0  0  0  0  0  0  0  0  0  0 ]\n",
      " [0  0  0  0  0  16 0  0  0  0  0  0  0  0  0  0 ]\n",
      " [0  0  0  0  0  0  16 0  0  0  0  0  0  0  0  0 ]\n",
      " [0  0  0  0  0  0  0  16 0  0  0  0  0  0  0  0 ]\n",
      " [0  0  0  0  0  0  0  0  16 0  0  0  0  0  0  0 ]\n",
      " [0  0  0  0  0  0  0  0  0  16 0  0  0  0  0  0 ]\n",
      " [0  0  0  0  0  0  0  0  0  0  16 0  0  0  0  0 ]\n",
      " [0  0  0  0  0  0  0  0  0  0  0  16 0  0  0  0 ]\n",
      " [0  0  0  0  0  0  0  0  0  0  0  0  16 0  0  0 ]\n",
      " [0  0  0  0  0  0  0  0  0  0  0  0  0  16 0  0 ]\n",
      " [0  0  0  0  0  0  0  0  0  0  0  0  0  0  16 0 ]\n",
      " [0  0  0  0  0  0  0  0  0  0  0  0  0  0  0  16]\n",
      "└─────────────────────────────────────────────────┘\n"
     ]
    }
   ],
   "source": [
    "def get_Q(_omega, _n):\n",
    "    Q_mat = np.zeros((_n, _n))\n",
    "    for i in range(_n):\n",
    "        for j in range(_n):\n",
    "            Q_mat[i, j] = (-1) ** Cardi(_omega[i + 1].intersection(_omega[j + 1]))\n",
    "    return np.matrix(Q_mat)\n",
    "\n",
    "Q_mat = get_Q(_test_omega, 2**_test_m)\n",
    "pretty_print(np.array((Q_mat).astype(int)))\n",
    "pretty_print(np.array((Q_mat * Q_mat).astype(int)))"
   ]
  },
  {
   "cell_type": "markdown",
   "metadata": {},
   "source": [
    "> And verify matrix $L = AQ^{-1}$ is a lower triangular matrix"
   ]
  },
  {
   "cell_type": "code",
   "execution_count": 11,
   "metadata": {},
   "outputs": [
    {
     "name": "stdout",
     "output_type": "stream",
     "text": [
      "┌──────────────────────────────────────────────────────────────────────────────────────────────────────────────────┐\n",
      " [1.0   0.0   0.0   0.0   0.0   0.0   0.0   0.0   0.0   0.0   0.0   0.0   0.0   0.0   0.0    0.0  ]\n",
      " [0.0   1.0   0.0   0.0   0.0   0.0   0.0   0.0   0.0   0.0   0.0   0.0   0.0   0.0   0.0    0.0  ]\n",
      " [0.0   0.0   1.0   0.0   0.0   0.0   0.0   0.0   0.0   0.0   0.0   0.0   0.0   0.0   0.0    0.0  ]\n",
      " [0.0   0.0   0.0   1.0   0.0   0.0   0.0   0.0   0.0   0.0   0.0   0.0   0.0   0.0   0.0    0.0  ]\n",
      " [0.0   0.0   0.0   0.0   1.0   0.0   0.0   0.0   0.0   0.0   0.0   0.0   0.0   0.0   0.0    0.0  ]\n",
      " [0.5   0.5   0.0   0.0   -0.5  0.5   0.0   0.0   0.0   0.0   0.0   0.0   0.0   0.0   0.0    0.0  ]\n",
      " [0.0   0.0   0.0   0.5   0.5   -0.5  0.5   0.0   0.0   0.0   0.0   0.0   0.0   0.0   0.0    0.0  ]\n",
      " [0.0   0.0   0.5   0.5   0.0   0.0   -0.5  0.5   0.0   0.0   0.0   0.0   0.0   0.0   0.0    0.0  ]\n",
      " [0.0   0.5   0.0   0.0   0.5   0.0   0.0   -0.5  0.5   0.0   0.0   0.0   0.0   0.0   0.0    0.0  ]\n",
      " [0.0   0.0   0.0   0.5   0.5   0.0   0.0   0.0   -0.5  0.5   0.0   0.0   0.0   0.0   0.0    0.0  ]\n",
      " [0.0   0.0   0.5   0.0   0.5   0.0   0.0   0.0   0.0   -0.5  0.5   0.0   0.0   0.0   0.0    0.0  ]\n",
      " [0.25  0.25  0.0   0.25  0.25  0.25  0.25  0.0   0.0   0.0   -0.75 0.25  0.0   0.0   0.0    0.0  ]\n",
      " [0.0   0.0   0.25  0.0   0.25  0.25  0.0   0.25  0.0   0.25  0.25  -0.75 0.25  0.0   0.0    0.0  ]\n",
      " [0.0   0.0   0.0   0.25  0.25  0.25  0.25  0.0   0.25  0.25  0.0   0.0   -0.75 0.25  0.0    0.0  ]\n",
      " [0.0   0.25  0.0   0.25  0.0   0.25  0.0   0.25  0.0   0.25  0.25  0.0   0.0   -0.75 0.25   0.0  ]\n",
      " [0.125 0.125 0.125 0.125 0.125 0.125 0.125 0.125 0.125 0.125 0.125 0.125 0.125 0.125 -0.875 0.125]\n",
      "└──────────────────────────────────────────────────────────────────────────────────────────────────────────────────┘\n"
     ]
    }
   ],
   "source": [
    "pretty_print(np.array(np.matrix(A_mat) * np.matrix(Q_mat).I))"
   ]
  },
  {
   "cell_type": "markdown",
   "metadata": {},
   "source": [
    "### Generate $\\mathcal{A}_{n - 1}^1$"
   ]
  },
  {
   "cell_type": "markdown",
   "metadata": {},
   "source": [
    "> Let $B\\in\\mathcal{A}_{n - 1}^1$, $\\Phi(B)\\in\\mathcal{A}_{n}^2\\;$:\n",
    "> $$ \\Phi(B) = \\left(\\begin{array}{cc} \n",
    "1 & 1_{n-1}\\\\\n",
    "-1^T_{n-1} & 2B-J_{n-1}\n",
    "\\end{array}\\right)\n",
    "> $$\n",
    ">\n",
    "> notice that the $A_2 \\in \\mathcal{A}_n^2$ we have has it's first column as:\n",
    "> $$ A_2 = \\Phi(B) = \\left(\\begin{array}{cc} \n",
    "1\\\\\n",
    "1^T_{n-1}\n",
    "\\end{array}\\right)\n",
    "> $$\n",
    "> we need to multiply $\\{\\alpha_{ij}\\}_{2\\le i\\le n, 2\\le j\\le n} \\in \\mathcal{A}_n^2$ with $-1$  \n",
    "> so we can generate matrix $A_1 \\in \\mathcal{A}_{n - 1}^1$ with $A_2 = \\{\\alpha_{ij}\\} \\in \\mathcal{A}_n^2$ using the following relation:    \n",
    "> $$A_1 = \\frac{1}{2}(J_{n-1}-\\{\\alpha_{ij}\\}_{2\\le i\\le n, 2\\le j\\le n})$$"
   ]
  },
  {
   "cell_type": "code",
   "execution_count": 12,
   "metadata": {},
   "outputs": [],
   "source": [
    "def create_A_1_mat(A_2_mat):\n",
    "    \n",
    "    A_1_mat = (np.ones(A_2_mat.shape[0] - 1) - A_2_mat[1:, 1:]) * 0.5\n",
    "    assert((A_1_mat.max() == 1 and A_1_mat.min() == 0) if A_1_mat.shape[0] > 1 else True)\n",
    "    return A_1_mat\n"
   ]
  },
  {
   "cell_type": "code",
   "execution_count": 13,
   "metadata": {},
   "outputs": [
    {
     "name": "stdout",
     "output_type": "stream",
     "text": [
      "┌───────────────────────────────┐\n",
      " [1 0 0 0 1 1 1 0 0 0 1 1 1 0 1]\n",
      " [0 1 0 0 0 0 1 1 1 0 0 1 1 1 1]\n",
      " [0 0 1 0 0 1 0 0 1 1 1 1 0 1 1]\n",
      " [0 0 0 1 1 0 0 1 0 1 1 0 1 1 1]\n",
      " [1 0 0 0 0 1 1 0 0 0 0 1 0 0 0]\n",
      " [0 0 1 0 1 0 0 0 1 1 1 0 1 1 1]\n",
      " [0 1 0 0 0 1 0 1 1 0 1 1 0 1 1]\n",
      " [0 0 0 1 1 0 1 0 0 1 1 1 1 0 1]\n",
      " [0 0 1 0 0 1 0 1 0 1 1 0 1 1 1]\n",
      " [0 0 0 1 1 0 0 1 1 0 0 1 1 1 1]\n",
      " [1 0 0 0 0 0 1 0 0 1 1 0 0 1 1]\n",
      " [0 1 0 0 1 1 0 1 0 1 0 1 1 1 0]\n",
      " [0 0 0 1 0 1 1 0 1 1 1 0 1 1 0]\n",
      " [0 0 1 0 1 1 1 1 0 0 1 1 0 1 0]\n",
      " [1 0 0 0 0 0 0 1 1 1 1 1 1 0 0]\n",
      "└───────────────────────────────┘\n"
     ]
    }
   ],
   "source": [
    "# test\n",
    "pretty_print(create_A_1_mat(A_mat).astype(int))"
   ]
  },
  {
   "cell_type": "code",
   "execution_count": 14,
   "metadata": {},
   "outputs": [],
   "source": [
    "def funcX(A):\n",
    "    return np.absolute(np.matrix(A).I).max()\n",
    "\n",
    "def get_o_1(_X, _n):\n",
    "    return (0.5 * _n * log(_n, 2) - _n - log(_X, 2)) / _n"
   ]
  },
  {
   "cell_type": "markdown",
   "metadata": {},
   "source": [
    "### Verify $χ(A)=2^{\\frac{1}{2}nlogn - n(1+o(1))}$\n",
    "> with $χ(A) = max_{i, j}|A^{-1}|$"
   ]
  },
  {
   "cell_type": "code",
   "execution_count": 15,
   "metadata": {},
   "outputs": [
    {
     "name": "stdout",
     "output_type": "stream",
     "text": [
      "m = 2, n = 4, χ(A_2) = 0.5, o(1) term = 0.250\n",
      "m = 3, n = 8, χ(A_2) = 1.0, o(1) term = 0.500\n",
      "m = 4, n = 16, χ(A_2) = 131.50000000000142, o(1) term = 0.560\n",
      "m = 5, n = 32, χ(A_2) = 2247877518.8656816, o(1) term = 0.529\n",
      "m = 6, n = 64, χ(A_2) = 3344658601622888.0, o(1) term = 1.194\n",
      "m = 7, n = 128, χ(A_2) = 1596000892827338.0, o(1) term = 2.105\n",
      "m = 8, n = 256, χ(A_2) = 1231531590891313.5, o(1) term = 2.804\n"
     ]
    }
   ],
   "source": [
    "for m in range(2, 9):\n",
    "    omega = create_Omega(m)\n",
    "    A_2_mat = create_A(omega, m)\n",
    "    X_A_2 = funcX(A_2_mat)\n",
    "    n = A_2_mat.shape[0]\n",
    "    o_1 = get_o_1(X_A_2, n)\n",
    "    print(\"m = {m_term}, n = {n_term}, χ(A_2) = {X_A_2_term}, o(1) term = {o_1_term:.3f}\".format(m_term=m, n_term=n, X_A_2_term=X_A_2, o_1_term=o_1))"
   ]
  },
  {
   "cell_type": "markdown",
   "metadata": {},
   "source": [
    "### Verify $χ(A')=2^{\\frac{1}{2}nlogn - n(1+o(1))}$"
   ]
  },
  {
   "cell_type": "code",
   "execution_count": 16,
   "metadata": {},
   "outputs": [
    {
     "name": "stdout",
     "output_type": "stream",
     "text": [
      "m = 2, n = 4, χ(A) = 1.0, o(1) term = 0.000\n",
      "m = 3, n = 8, χ(A) = 2.0, o(1) term = 0.375\n",
      "m = 4, n = 16, χ(A) = 260.0000000000009, o(1) term = 0.499\n",
      "m = 5, n = 32, χ(A) = 4495480119.287977, o(1) term = 0.498\n",
      "m = 6, n = 64, χ(A) = 4212068385296025.0, o(1) term = 1.189\n"
     ]
    }
   ],
   "source": [
    "for m in range(2, 7):\n",
    "    omega = create_Omega(m)\n",
    "    A_mat = create_A(omega, m)\n",
    "    A_1_mat = create_A_1_mat(A_mat)\n",
    "    X_A = funcX(A_1_mat)\n",
    "    n = A_1_mat.shape[0] + 1\n",
    "    o_1 = get_o_1(X_A, n)\n",
    "    print(\"m = {m_term}, n = {n_term}, χ(A) = {X_A_term}, o(1) term = {o_1_term:.3f}\".format(m_term=m, n_term=n, X_A_term=X_A, o_1_term=o_1))"
   ]
  },
  {
   "cell_type": "markdown",
   "metadata": {},
   "source": [
    "### Generate matrix $C = A_1 \\diamond (A_2 \\diamond (. . . (A_{r−1} \\diamond A_r))...)$"
   ]
  },
  {
   "cell_type": "code",
   "execution_count": 17,
   "metadata": {},
   "outputs": [
    {
     "name": "stdout",
     "output_type": "stream",
     "text": [
      "r = 2, max(n) = 4, χ(C) = 1.0, o(1) >= 0.000\n",
      "r = 3, max(n) = 11, χ(C) = 2.0, o(1) >= 0.639\n",
      "r = 4, max(n) = 26, χ(C) = 260.00000000000443, o(1) >= 1.042\n",
      "r = 5, max(n) = 57, χ(C) = 106491641548.59639, o(1) >= 1.274\n",
      "r = 6, max(n) = 120, χ(C) = 7.186183766512361e+24, o(1) >= 1.765\n",
      "r = 7, max(n) = 247, χ(C) = 8.981448629516596e+37, o(1) >= 2.464\n",
      "r = 8, max(n) = 502, χ(C) = 1.9679934451880236e+52, o(1) >= 3.140\n",
      "r = 9, max(n) = 1013, χ(C) = 3.962544275444787e+64, o(1) >= 3.780\n",
      "r = 10, max(n) = 2036, χ(C) = 3.4399058744893378e+75, o(1) >= 4.373\n",
      "r = 11, max(n) = 4083, χ(C) = 3.2109048892035864e+86, o(1) >= 4.927\n"
     ]
    },
    {
     "data": {
      "image/png": "[encoded data removed]",
      "text/plain": [
       "<Figure size 640x480 with 1 Axes>"
      ]
     },
     "metadata": {},
     "output_type": "display_data"
    }
   ],
   "source": [
    "import time\n",
    "import matplotlib.pyplot as plt\n",
    "\n",
    "def retangle_operator(S, T):\n",
    "    top_right = np.zeros((S.shape[0], T.shape[1]),dtype=int)\n",
    "    btn_left = np.zeros((T.shape[0], S.shape[1]),dtype=int)\n",
    "    if btn_left.shape[1] > 0:\n",
    "        btn_left[0, -1] = 1\n",
    "    return np.asarray(np.bmat([[S, top_right], [btn_left, T]]))\n",
    "\n",
    "def generate_C(_r: int):\n",
    "    res = None\n",
    "    for m in range(1, _r + 1):\n",
    "        omega = create_Omega(m)\n",
    "        A_mat = create_A(omega, m)\n",
    "        A_1_mat = create_A_1_mat(A_mat)\n",
    "        res = A_1_mat if res is None else retangle_operator(res, A_1_mat)\n",
    "    return res\n",
    "\n",
    "range_list = list(range(2, 12))\n",
    "time_list = []\n",
    "\n",
    "for r in range_list:\n",
    "    start = time.time()\n",
    "    C_mat = generate_C(r)\n",
    "    # pretty_print(C_mat.astype(int))\n",
    "    X_C = funcX(C_mat)\n",
    "    n = C_mat.shape[0]\n",
    "    o_1 = get_o_1(X_C, n)\n",
    "    end = time.time()\n",
    "    time_list.append((end - start) * 1000)\n",
    "    print(\"r = {r_term}, max(n) = {n_term}, χ(C) = {X_C_term}, o(1) >= {o_1_term:.3f}\".format(r_term=r, n_term=n, X_C_term=X_C, o_1_term=o_1))\n",
    "\n",
    "plt.plot(range_list, time_list, marker='o')\n",
    "plt.xlabel(\"m\")\n",
    "plt.xticks(range_list)\n",
    "plt.ylabel(\"cost of time (ms)\")\n",
    "for x, y in zip(range_list, time_list): \n",
    "    plt.text(x-0.15, y + 150, \"%.0f\" % y)\n",
    "plt.show()"
   ]
  }
 ],
 "metadata": {
  "kernelspec": {
   "display_name": "Python 3",
   "language": "python",
   "name": "python3"
  },
  "language_info": {
   "codemirror_mode": {
    "name": "ipython",
    "version": 3
   },
   "file_extension": ".py",
   "mimetype": "text/x-python",
   "name": "python",
   "nbconvert_exporter": "python",
   "pygments_lexer": "ipython3",
   "version": "3.11.6"
  }
 },
 "nbformat": 4,
 "nbformat_minor": 2
}
