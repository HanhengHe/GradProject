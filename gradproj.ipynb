{
 "cells": [
  {
   "cell_type": "code",
   "execution_count": 2,
   "metadata": {},
   "outputs": [],
   "source": [
    "import numpy as np\n",
    "import random\n",
    "\n",
    "# pretty print for np.array \n",
    "# from https://stackoverflow.com/questions/53126305/pretty-printing-numpy-ndarrays-using-unicode-characters/53164538#53164538\n",
    "def pretty_print(A):\n",
    "    if A.ndim==1:\n",
    "        print(A)\n",
    "    else:\n",
    "        w = max([len(str(s)) for s in A]) \n",
    "        print(u'\\u250c' + u'\\u2500' * w + u'\\u2510') \n",
    "        for AA in A:\n",
    "            print(' ', end='')\n",
    "            print('[', end='')\n",
    "            for i, AAA in enumerate(AA[:-1]):\n",
    "                w1 = max([len(str(s)) for s in A[:, i]])\n",
    "                print(str(AAA) + ' ' * (w1  - len(str(AAA)) + 1), end='')\n",
    "            w1 = max([len(str(s)) for s in A[:, -1]])\n",
    "            print(str(AA[-1]) + ' ' * (w1 - len(str(AA[-1]))), end='')\n",
    "            print(']')\n",
    "        print(u'\\u2514'+u'\\u2500' * w + u'\\u2518')  \n",
    "\n",
    "def compare(left: set, right: set):\n",
    "    if len(left) == len(right):\n",
    "        for i in range(len(left)):\n",
    "            if left[i] != right[i]:\n",
    "                return left[i] < right[i]\n",
    "    return left < right\n"
   ]
  },
  {
   "cell_type": "markdown",
   "metadata": {},
   "source": [
    "### Generate $\\mathcal{A}_n^2$"
   ]
  },
  {
   "cell_type": "markdown",
   "metadata": {},
   "source": [
    "> Let $|\\cdot|$ denotes cardinality and $\\Delta$ denote symmetric different"
   ]
  },
  {
   "cell_type": "code",
   "execution_count": 3,
   "metadata": {},
   "outputs": [],
   "source": [
    "def Delta(left: set, right: set):\n",
    "    return left.symmetric_difference(right)\n",
    "\n",
    "def Cardi(x: set):\n",
    "    return len(x)\n",
    "\n",
    "def legal(alpha_i: set, alpha_i_1: set):\n",
    "    return Cardi(alpha_i) <= Cardi(alpha_i_1) and len(Delta(alpha_i, alpha_i_1)) <= 2"
   ]
  },
  {
   "cell_type": "markdown",
   "metadata": {},
   "source": [
    "> Let $n=2^m$, $\\Omega$ be a set of $m$ element such that $|\\alpha_i| \\leq |\\alpha_{i+1}|$ and $|\\alpha_i \\Delta \\alpha_{i+1}| \\leq 2$  \n",
    "> Let $\\alpha_0=\\{\\varnothing\\}$, now genereate $\\Omega$"
   ]
  },
  {
   "cell_type": "code",
   "execution_count": 4,
   "metadata": {},
   "outputs": [
    {
     "data": {
      "text/plain": [
       "[set(),\n",
       " {1},\n",
       " {2},\n",
       " {3},\n",
       " {4},\n",
       " {3, 4},\n",
       " {2, 4},\n",
       " {2, 3},\n",
       " {1, 4},\n",
       " {1, 3},\n",
       " {1, 2},\n",
       " {1, 2, 3},\n",
       " {1, 2, 4},\n",
       " {1, 3, 4},\n",
       " {2, 3, 4},\n",
       " {1, 2, 3, 4}]"
      ]
     },
     "execution_count": 4,
     "metadata": {},
     "output_type": "execute_result"
    }
   ],
   "source": [
    "from itertools import chain, combinations\n",
    "\n",
    "# param\n",
    "m = 4\n",
    "# generate \\Omega\n",
    "\n",
    "def create_Omega(n):\n",
    "    s = list(range(1, n + 1))\n",
    "    container = chain.from_iterable(combinations(s, r) for r in range(len(s)+1))\n",
    "    map = {i: [] for i in range(1, len(s) + 1)}\n",
    "    for item in container:\n",
    "        if len(item) != 0:\n",
    "            map[len(item)].append(set(item))\n",
    "    res = [set()]\n",
    "    for key, value in map.items():\n",
    "        if key % 2 == 0:\n",
    "            value.reverse()\n",
    "        res.extend(value)\n",
    "    return res\n",
    "\n",
    "omega = create_Omega(m)\n",
    "\n",
    "for i in range(m - 1):\n",
    "    assert(legal(omega[i], omega[i + 1]))\n",
    "assert(len(omega) == 2**m)\n",
    "\n",
    "omega"
   ]
  },
  {
   "cell_type": "markdown",
   "metadata": {},
   "source": [
    "> $$a_{ij} = \\begin{cases}\n",
    "    -1,\\;\\alpha_j\\bigcap(\\alpha_{i-1}\\bigcup\\alpha_i)=\\alpha_{i-1}\\Delta\\alpha_{i}\\;and\\;|\\alpha_{i-1}\\Delta\\alpha_{i}|=2 \\\\\n",
    "    (-1)^{|\\alpha_{i-1}\\bigcap\\alpha_j| + 1},\\;\\alpha_{j}\\bigcap(\\alpha_{i-1}\\bigcup\\alpha_{i})\\neq\\varnothing\\;but\\;does\\;not\\;meet\\;the\\;condition\\;above \\\\\n",
    "    1,\\;\\alpha_j\\bigcap(\\alpha_{i-1}\\bigcup\\alpha_i)=\\varnothing \\\\\n",
    "\\end{cases}\n",
    "$$"
   ]
  },
  {
   "cell_type": "code",
   "execution_count": 11,
   "metadata": {},
   "outputs": [
    {
     "name": "stdout",
     "output_type": "stream",
     "text": [
      "┌─────────────────────────────────────────────────┐\n",
      " [1 1  1  1  1  -1 -1 -1 -1 -1 -1 1  1  1  1  -1]\n",
      " [1 -1 1  1  1  1  1  1  -1 -1 -1 -1 -1 -1 1  -1]\n",
      " [1 1  -1 1  1  1  -1 -1 1  1  -1 -1 -1 1  -1 -1]\n",
      " [1 1  1  -1 1  -1 1  -1 1  -1 1  -1 1  -1 -1 -1]\n",
      " [1 1  1  1  -1 -1 -1 1  -1 1  1  1  -1 -1 -1 -1]\n",
      " [1 1  1  -1 1  1  1  -1 1  -1 1  -1 1  1  1  1 ]\n",
      " [1 1  -1 1  1  -1 1  -1 1  1  -1 -1 1  -1 -1 -1]\n",
      " [1 1  1  -1 1  -1 -1 1  1  -1 1  1  -1 -1 -1 -1]\n",
      " [1 -1 1  1  -1 1  1  -1 -1 1  1  -1 1  1  -1 -1]\n",
      " [1 1  1  -1 1  -1 1  -1 -1 1  1  1  -1 -1 -1 -1]\n",
      " [1 1  -1 1  1  1  -1 -1 1  -1 1  -1 1  -1 -1 -1]\n",
      " [1 1  1  -1 1  -1 1  1  1  1  -1 -1 -1 1  1  -1]\n",
      " [1 1  1  1  -1 -1 1  -1 1  -1 -1 1  -1 -1 -1 1 ]\n",
      " [1 1  1  -1 1  1  -1 -1 -1 1  -1 -1 1  -1 -1 1 ]\n",
      " [1 1  -1 1  1  -1 1  1  -1 -1 -1 -1 -1 1  -1 1 ]\n",
      " [1 -1 1  1  1  -1 -1 -1 1  1  1  -1 -1 -1 1  1 ]\n",
      "└─────────────────────────────────────────────────┘\n"
     ]
    }
   ],
   "source": [
    "def query_element(i: int, j: int, omega: list) -> int:\n",
    "    alpha_j = omega[j]\n",
    "    alpha_i_1 = omega[i - 1]\n",
    "    alpha_i = omega[i]\n",
    "\n",
    "    if alpha_j.intersection(alpha_i_1.union(alpha_i)) == Delta(alpha_i_1, alpha_i) \\\n",
    "        and Cardi(Delta(alpha_i_1, alpha_i)) == 2:\n",
    "        return -1\n",
    "    elif Cardi(alpha_j.intersection(alpha_i_1.union(alpha_i))) != 0:\n",
    "        return (-1)**(Cardi(alpha_i_1.intersection(alpha_j)) + 1)\n",
    "    elif Cardi(alpha_j.intersection(alpha_i_1.union(alpha_i))) == 0:\n",
    "        return 1\n",
    "    else:\n",
    "        raise ValueError(\"Undefined behavior!\")\n",
    "    \n",
    "A_mat = np.zeros((2**m, 2**m))\n",
    "for i in range(A_mat.shape[0]):\n",
    "    for j in range(A_mat.shape[1]):\n",
    "        A_mat[i, j] = query_element(i, j, omega)\n",
    "\n",
    "pretty_print(A_mat.astype(int))"
   ]
  },
  {
   "cell_type": "markdown",
   "metadata": {},
   "source": [
    "### Generate $\\mathcal{A}_{n - 1}^1$"
   ]
  },
  {
   "cell_type": "markdown",
   "metadata": {},
   "source": [
    "> Let $B\\in\\mathcal{A}_{n - 1}^1$, $\\Phi(B)\\in\\mathcal{A}_{n}^2\\;$:\n",
    "> $$ \\Phi(B) = \\left(\\begin{array}{cc} \n",
    "1 & 1_{n-1}\\\\\n",
    "-1^T_{n-1} & 2B-J_{n-1}\n",
    "\\end{array}\\right)\n",
    "> $$\n",
    "> Thus: \n",
    "> $$ \\Phi(B)^{-1} = \\left(\\begin{array}{cc} \n",
    "1-\\frac{1}{2}1_{n-1}B^{-1}1^T_{n-1} & -\\frac{1}{2}1_{n-1}B^{-1}\\\\\n",
    "\\frac{1}{2}B^{-1}1^T_{n-1} & \\frac{1}{2}B^{-1}\n",
    "\\end{array}\\right)\n",
    "> $$"
   ]
  },
  {
   "cell_type": "code",
   "execution_count": 27,
   "metadata": {},
   "outputs": [
    {
     "name": "stdout",
     "output_type": "stream",
     "text": [
      "[[0.5]]\n",
      "┌───────────────────────────────────────────────────────────────────────────────────────────────────────────────────────────────────────────────────────────────────────────────────────────────────────────────────────────────────────────────────────────────────────────────────────────┐\n",
      " [[[ 0.5         0.11570248 -0.80991736 -1.54545455 -0.47933884 -1.59090909\n",
      "  -2.46280992 -1.99173554 -0.87603306  0.61570248  0.87603306  3.2231405\n",
      "   2.46280992  0.97520661  0.47933884  0.31404959  0.19421488]]]\n",
      " [[[ 0.5         0.05785124 -0.40495868 -1.02272727 -0.98966942 -0.79545455\n",
      "  -0.73140496 -0.49586777  0.06198347  0.55785124  0.43801653  1.61157025\n",
      "   1.23140496  0.48760331  0.23966942  0.15702479  0.09710744]]]\n",
      " [[[ 9.02056208e-17 -1.44628099e-02  1.01239669e-01  3.18181818e-01\n",
      "   3.09917355e-01  3.86363636e-01  3.07851240e-01  1.23966942e-01\n",
      "  -1.40495868e-01 -2.64462810e-01 -1.09504132e-01 -4.02892562e-01\n",
      "  -3.07851240e-01 -1.21900826e-01 -5.99173554e-02 -3.92561983e-02\n",
      "  -8.67768595e-02]]]\n",
      " [[[-3.33066907e-16 -6.19834711e-03  2.93388430e-01  6.36363636e-01\n",
      "   5.97107438e-01  5.22727273e-01  5.24793388e-01  3.38842975e-01\n",
      "   8.26446281e-02 -2.56198347e-01 -3.32644628e-01 -1.10123967e+00\n",
      "  -7.74793388e-01 -2.66528926e-01 -9.71074380e-02 -1.23966942e-01\n",
      "  -3.71900826e-02]]]\n",
      " [[[-4.09394740e-16 -3.09917355e-03  2.71694215e-01  5.68181818e-01\n",
      "   4.23553719e-01  5.11363636e-01  5.12396694e-01  4.19421488e-01\n",
      "   4.13223140e-02 -2.53099174e-01 -2.91322314e-01 -9.25619835e-01\n",
      "  -7.62396694e-01 -2.58264463e-01 -1.73553719e-01 -6.19834711e-02\n",
      "  -1.85950413e-02]]]\n",
      " [[[-1.11022302e-16 -2.06611570e-03  2.64462810e-01  5.45454545e-01\n",
      "   3.65702479e-01  3.40909091e-01  5.08264463e-01  4.46280992e-01\n",
      "   1.94214876e-01 -2.52066116e-01 -1.94214876e-01 -9.50413223e-01\n",
      "  -7.58264463e-01 -3.38842975e-01 -1.15702479e-01 -4.13223140e-02\n",
      "  -1.23966942e-02]]]\n",
      " [[[ 0.         -0.05371901  0.12603306  0.18181818  0.00826446  0.11363636\n",
      "   0.21487603  0.10330579  0.04958678 -0.05371901 -0.04958678 -0.2107438\n",
      "  -0.21487603 -0.05991736 -0.00826446 -0.07438017 -0.07231405]]]\n",
      " [[[ 0.         -0.05061983  0.10433884  0.11363636  0.08471074  0.10227273\n",
      "   0.20247934  0.1838843   0.00826446 -0.05061983 -0.00826446 -0.28512397\n",
      "  -0.20247934 -0.05165289 -0.08471074 -0.01239669 -0.05371901]]]\n",
      " [[[-6.93889390e-17 -4.95867769e-02  9.71074380e-02  9.09090909e-02\n",
      "   2.68595041e-02  1.81818182e-01  1.98347107e-01  2.10743802e-01\n",
      "   1.61157025e-01 -4.95867769e-02 -1.61157025e-01 -3.09917355e-01\n",
      "  -1.98347107e-01 -1.32231405e-01 -2.68595041e-02  8.26446281e-03\n",
      "  -4.75206612e-02]]]\n",
      " [[[ 5.55111512e-17 -4.13223140e-02  3.92561983e-02  1.59090909e-01\n",
      "   6.40495868e-02  6.81818182e-02  1.65289256e-01  1.75619835e-01\n",
      "   1.34297521e-01 -4.13223140e-02 -1.34297521e-01 -2.58264463e-01\n",
      "  -1.65289256e-01 -2.68595041e-02 -6.40495868e-02 -7.64462810e-02\n",
      "   2.06611570e-03]]]\n",
      " [[[-6.24500451e-17 -4.02892562e-02  3.20247934e-02  1.36363636e-01\n",
      "   6.19834711e-03  1.47727273e-01  1.61157025e-01  2.02479339e-01\n",
      "   3.71900826e-02 -4.02892562e-02 -3.71900826e-02 -2.83057851e-01\n",
      "  -1.61157025e-01 -1.07438017e-01 -6.19834711e-03 -5.57851240e-02\n",
      "   8.26446281e-03]]]\n",
      " [[[-2.77555756e-17 -3.71900826e-02  1.03305785e-02  6.81818182e-02\n",
      "   8.26446281e-02  1.36363636e-01  1.48760331e-01  3.30578512e-02\n",
      "  -4.13223140e-03 -3.71900826e-02  4.13223140e-03 -1.07438017e-01\n",
      "  -1.48760331e-01 -9.91735537e-02 -8.26446281e-02  6.19834711e-03\n",
      "   2.68595041e-02]]]\n",
      " [[[ 4.85722573e-17  3.51239669e-02  4.13223140e-03 -2.27272727e-02\n",
      "  -2.16942149e-01 -4.54545455e-02  1.09504132e-01  1.63223140e-01\n",
      "   1.98347107e-01  3.51239669e-02  5.16528926e-02 -9.29752066e-02\n",
      "  -1.09504132e-01  1.03305785e-02 -3.30578512e-02 -4.75206612e-02\n",
      "  -3.92561983e-02]]]\n",
      " [[[-3.46944695e-17  3.61570248e-02 -3.09917355e-03 -4.54545455e-02\n",
      "  -2.47933884e-02  3.40909091e-02  1.05371901e-01  1.90082645e-01\n",
      "   1.01239669e-01  3.61570248e-02 -1.01239669e-01 -1.17768595e-01\n",
      "  -1.05371901e-01 -7.02479339e-02  2.47933884e-02 -2.68595041e-02\n",
      "  -3.30578512e-02]]]\n",
      " [[[-1.38777878e-17  3.92561983e-02 -2.47933884e-02  1.36363636e-01\n",
      "   5.16528926e-02  2.27272727e-02  9.29752066e-02  2.06611570e-02\n",
      "   5.99173554e-02  3.92561983e-02 -5.99173554e-02 -1.92148760e-01\n",
      "  -9.29752066e-02 -6.19834711e-02 -5.16528926e-02  3.51239669e-02\n",
      "  -1.44628099e-02]]]\n",
      " [[[ 9.02056208e-17  4.95867769e-02 -9.71074380e-02 -3.40909091e-01\n",
      "  -2.76859504e-01 -1.81818182e-01 -1.98347107e-01 -2.10743802e-01\n",
      "  -1.61157025e-01  4.95867769e-02  1.61157025e-01  5.59917355e-01\n",
      "   4.48347107e-01  1.32231405e-01  2.68595041e-02 -8.26446281e-03\n",
      "   4.75206612e-02]]]\n",
      " [[[-2.77555756e-17 -3.51239669e-02 -4.13223140e-03  2.27272727e-02\n",
      "  -3.30578512e-02  4.54545455e-02  1.40495868e-01  8.67768595e-02\n",
      "   5.16528926e-02 -3.51239669e-02 -5.16528926e-02 -1.57024793e-01\n",
      "  -1.40495868e-01 -1.03305785e-02  3.30578512e-02  4.75206612e-02\n",
      "   3.92561983e-02]]]\n",
      "└───────────────────────────────────────────────────────────────────────────────────────────────────────────────────────────────────────────────────────────────────────────────────────────────────────────────────────────────────────────────────────────────────────────────────────────┘\n"
     ]
    }
   ],
   "source": [
    "def rev_Phi(B):\n",
    "    B_mat = np.matrix(B)\n",
    "    B_mat_I = B_mat.I\n",
    "    n = B.shape[0]\n",
    "    ones = np.ones((1, n))\n",
    "    left_top = 1 - 0.5 * ones * B_mat_I * ones.T\n",
    "    print(left_top)\n",
    "    right_top = -0.5 * ones * B_mat_I\n",
    "    left_btn = 0.5 * B_mat_I * ones.T\n",
    "    right_btn = 0.5 * B_mat_I\n",
    "    top = np.concatenate((left_top, right_top), axis=1)\n",
    "    btn = np.concatenate((left_btn, right_btn), axis=1)\n",
    "    mat = np.concatenate((top, btn), axis=0)\n",
    "\n",
    "    return mat\n",
    "\n",
    "pretty_print(rev_Phi(A_mat))"
   ]
  },
  {
   "cell_type": "code",
   "execution_count": null,
   "metadata": {},
   "outputs": [],
   "source": []
  }
 ],
 "metadata": {
  "kernelspec": {
   "display_name": "Python 3",
   "language": "python",
   "name": "python3"
  },
  "language_info": {
   "codemirror_mode": {
    "name": "ipython",
    "version": 3
   },
   "file_extension": ".py",
   "mimetype": "text/x-python",
   "name": "python",
   "nbconvert_exporter": "python",
   "pygments_lexer": "ipython3",
   "version": "3.11.6"
  }
 },
 "nbformat": 4,
 "nbformat_minor": 2
}
