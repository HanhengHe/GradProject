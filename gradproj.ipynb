{
 "cells": [
  {
   "cell_type": "code",
   "execution_count": 241,
   "metadata": {},
   "outputs": [],
   "source": [
    "import numpy as np\n",
    "import random\n",
    "\n",
    "# pretty print for np.array \n",
    "# from https://stackoverflow.com/questions/53126305/pretty-printing-numpy-ndarrays-using-unicode-characters/53164538#53164538\n",
    "def pretty_print(A):\n",
    "    if A.ndim==1:\n",
    "        print(A)\n",
    "    else:\n",
    "        w = max([len(str(s)) for s in A]) \n",
    "        print(u'\\u250c' + u'\\u2500' * w + u'\\u2510') \n",
    "        for AA in A:\n",
    "            print(' ', end='')\n",
    "            print('[', end='')\n",
    "            for i, AAA in enumerate(AA[:-1]):\n",
    "                w1 = max([len(str(s)) for s in A[:, i]])\n",
    "                print(str(AAA) + ' ' * (w1  - len(str(AAA)) + 1), end='')\n",
    "            w1 = max([len(str(s)) for s in A[:, -1]])\n",
    "            print(str(AA[-1]) + ' ' * (w1 - len(str(AA[-1]))), end='')\n",
    "            print(']')\n",
    "        print(u'\\u2514'+u'\\u2500' * w + u'\\u2518')  "
   ]
  },
  {
   "cell_type": "markdown",
   "metadata": {},
   "source": [
    "### Generate $\\mathcal{A}_n^2$"
   ]
  },
  {
   "cell_type": "markdown",
   "metadata": {},
   "source": [
    "> Let $|\\cdot|$ denotes cardinality and $\\Delta$ denote symmetric different"
   ]
  },
  {
   "cell_type": "code",
   "execution_count": 24,
   "metadata": {},
   "outputs": [],
   "source": [
    "def Delta(left: set, right: set):\n",
    "    return left.symmetric_difference(right)\n",
    "\n",
    "def Cardi(x: set):\n",
    "    return len(x)\n",
    "\n",
    "def legal(alpha_i: set, alpha_i_1: set):\n",
    "    return Cardi(alpha_i) <= Cardi(alpha_i_1) and len(Delta(alpha_i, alpha_i_1)) <= 2"
   ]
  },
  {
   "cell_type": "markdown",
   "metadata": {},
   "source": [
    "> Let $n=2^m$, $\\Omega$ be a set of $m$ element such that $|\\alpha_i| \\leq |\\alpha_{i+1}|$ and $|\\alpha_i \\Delta \\alpha_{i+1}| \\leq 2$  \n",
    "> Let $\\alpha_0=\\{\\varnothing\\}$, now genereate $\\Omega$"
   ]
  },
  {
   "cell_type": "code",
   "execution_count": 213,
   "metadata": {},
   "outputs": [
    {
     "data": {
      "text/plain": [
       "[set(),\n",
       " {1},\n",
       " {3},\n",
       " {3, 4, 5},\n",
       " {3, 4, 5},\n",
       " {3, 4, 6},\n",
       " {3, 6, 7},\n",
       " {3, 6, 8},\n",
       " {3, 6, 9},\n",
       " {6, 9, 10},\n",
       " {6, 9, 11},\n",
       " {6, 9, 11},\n",
       " {6, 9, 11, 12},\n",
       " {6, 9, 11, 12},\n",
       " {6, 9, 11, 12},\n",
       " {6, 9, 11, 12}]"
      ]
     },
     "execution_count": 213,
     "metadata": {},
     "output_type": "execute_result"
    }
   ],
   "source": [
    "# param\n",
    "m = 4\n",
    "# generate \\Omega\n",
    "max_step = 5\n",
    "omega = [set([]), set([1])]\n",
    "# 0 -> escape;1 -> add; 2 -> replace; 3 -> delete\n",
    "for i in range(1, 2**m - 1):\n",
    "    if (len(omega[i]) == m):\n",
    "        omega.append(omega[i])\n",
    "        continue\n",
    "    alpha = omega[i].copy()\n",
    "    alpha_changed = omega[i].copy()\n",
    "    step = 0\n",
    "    while(step <= max_step):\n",
    "        strategy = random.randint(0, 3) if len(alpha) > len(omega[i]) else random.randint(0, 2)\n",
    "        step += 1\n",
    "        if (step == max_step):\n",
    "            omega.append(alpha)\n",
    "            break\n",
    "\n",
    "        if strategy == 0:\n",
    "            omega.append(alpha)\n",
    "            break\n",
    "        elif strategy == 1:\n",
    "            alpha_changed.add(max(alpha) + 1)\n",
    "        elif strategy == 2:\n",
    "            replacer = max(alpha) + 1\n",
    "            to_remove = random.sample(list(alpha), 1)[0]\n",
    "            alpha_changed.remove(to_remove)\n",
    "            alpha_changed.add(replacer)\n",
    "        elif strategy == 3:\n",
    "            to_remove = random.sample(list(alpha), 1)[0]\n",
    "            alpha_changed.remove(to_remove)\n",
    "        \n",
    "        if not legal(omega[i], alpha_changed):\n",
    "            omega.append(alpha)\n",
    "            break\n",
    "        else:\n",
    "            alpha = alpha_changed.copy()\n",
    "\n",
    "for i in range(m - 1):\n",
    "    assert(legal(omega[i], omega[i + 1]))\n",
    "assert(len(omega) == 2**m)\n",
    "\n",
    "omega"
   ]
  },
  {
   "cell_type": "markdown",
   "metadata": {},
   "source": [
    "> $$a_{ij} = \\begin{cases}\n",
    "    -1,\\;\\alpha_j\\bigcap(\\alpha_{i-1}\\bigcup\\alpha_i)=\\alpha_{i-1}\\Delta\\alpha_{i}\\;and\\;|\\alpha_{i-1}\\Delta\\alpha_{i}|=2 \\\\\n",
    "    (-1)^{|\\alpha_{i-1}\\bigcap\\alpha_i| + 1},\\;\\alpha_{j}\\bigcap(\\alpha_{i-1}\\bigcup\\alpha_{i})\\neq\\varnothing\\;but\\;does\\;not\\;meet\\;the\\;condition\\;above \\\\\n",
    "    1,\\;\\alpha_j\\bigcap(\\alpha_{i-1}\\bigcup\\alpha_i)=\\varnothing \\\\\n",
    "\\end{cases}\n",
    "$$"
   ]
  },
  {
   "cell_type": "code",
   "execution_count": 243,
   "metadata": {},
   "outputs": [
    {
     "name": "stdout",
     "output_type": "stream",
     "text": [
      "┌─────────────────────────────────────────────────┐\n",
      " [1 1  1  1  1  -1 -1 -1 -1 -1 -1 -1 -1 -1 -1 -1]\n",
      " [1 -1 1  1  1  1  1  1  1  1  1  1  1  1  1  1 ]\n",
      " [1 -1 -1 -1 -1 -1 -1 -1 -1 1  1  1  1  1  1  1 ]\n",
      " [1 1  1  1  1  1  1  1  1  1  1  1  1  1  1  1 ]\n",
      " [1 1  1  1  1  1  1  1  1  1  1  1  1  1  1  1 ]\n",
      " [1 1  -1 -1 -1 -1 -1 -1 -1 -1 -1 -1 -1 -1 -1 -1]\n",
      " [1 1  -1 -1 -1 -1 -1 -1 -1 -1 -1 -1 -1 -1 -1 -1]\n",
      " [1 1  -1 -1 -1 -1 -1 -1 -1 -1 -1 -1 -1 -1 -1 -1]\n",
      " [1 1  -1 -1 -1 -1 -1 -1 -1 -1 -1 -1 -1 -1 -1 -1]\n",
      " [1 1  -1 -1 -1 -1 -1 -1 -1 -1 -1 -1 -1 -1 -1 -1]\n",
      " [1 1  1  1  1  -1 -1 -1 -1 -1 -1 -1 -1 -1 -1 -1]\n",
      " [1 1  1  1  1  1  1  1  1  1  1  1  1  1  1  1 ]\n",
      " [1 1  1  1  1  1  1  1  1  1  1  1  1  1  1  1 ]\n",
      " [1 1  1  1  1  -1 -1 -1 -1 -1 -1 -1 -1 -1 -1 -1]\n",
      " [1 1  1  1  1  -1 -1 -1 -1 -1 -1 -1 -1 -1 -1 -1]\n",
      "└─────────────────────────────────────────────────┘\n"
     ]
    }
   ],
   "source": [
    "def query_element(i: int, j: int, omega: list) -> int:\n",
    "    alpha_j = omega[j]\n",
    "    alpha_i_1 = omega[i - 1]\n",
    "    alpha_i = omega[i]\n",
    "\n",
    "    if alpha_j.intersection(alpha_i_1.union(alpha_i)) == Delta(alpha_i_1, alpha_i) \\\n",
    "        and Cardi(Delta(alpha_i_1, alpha_i)) == 2:\n",
    "        return -1\n",
    "    elif Cardi(alpha_j.intersection(alpha_i_1.union(alpha_i))) != 0:\n",
    "        return (-1)**(Cardi(alpha_i_1.intersection(alpha_i)) + 1)\n",
    "    elif Cardi(alpha_j.intersection(alpha_i_1.union(alpha_i))) == 0:\n",
    "        return 1\n",
    "    else:\n",
    "        raise ValueError(\"Undefined behavior!\")\n",
    "    \n",
    "A_matrix = np.zeros((2**m - 1, 2**m))\n",
    "for i in range(A_matrix.shape[0]):\n",
    "    for j in range(A_matrix.shape[1]):\n",
    "        A_matrix[i, j] = query_element(i, j, omega)\n",
    "\n",
    "pretty_print(A_matrix.astype(int))"
   ]
  },
  {
   "cell_type": "markdown",
   "metadata": {},
   "source": [
    "### Generate $\\mathcal{A}_{n - 1}^1$"
   ]
  },
  {
   "cell_type": "markdown",
   "metadata": {},
   "source": []
  }
 ],
 "metadata": {
  "kernelspec": {
   "display_name": "Python 3",
   "language": "python",
   "name": "python3"
  },
  "language_info": {
   "codemirror_mode": {
    "name": "ipython",
    "version": 3
   },
   "file_extension": ".py",
   "mimetype": "text/x-python",
   "name": "python",
   "nbconvert_exporter": "python",
   "pygments_lexer": "ipython3",
   "version": "3.11.6"
  }
 },
 "nbformat": 4,
 "nbformat_minor": 2
}
