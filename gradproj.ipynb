{
 "cells": [
  {
   "cell_type": "code",
   "execution_count": 33,
   "metadata": {},
   "outputs": [],
   "source": [
    "import numpy as np\n",
    "import random\n",
    "\n",
    "# pretty print for np.array \n",
    "# from https://stackoverflow.com/questions/53126305/pretty-printing-numpy-ndarrays-using-unicode-characters/53164538#53164538\n",
    "def pretty_print(A):\n",
    "    if A.ndim==1:\n",
    "        print(A)\n",
    "    else:\n",
    "        w = max([len(str(s)) for s in A]) \n",
    "        print(u'\\u250c' + u'\\u2500' * w + u'\\u2510') \n",
    "        for AA in A:\n",
    "            print(' ', end='')\n",
    "            print('[', end='')\n",
    "            for i, AAA in enumerate(AA[:-1]):\n",
    "                w1 = max([len(str(s)) for s in A[:, i]])\n",
    "                print(str(AAA) + ' ' * (w1  - len(str(AAA)) + 1), end='')\n",
    "            w1 = max([len(str(s)) for s in A[:, -1]])\n",
    "            print(str(AA[-1]) + ' ' * (w1 - len(str(AA[-1]))), end='')\n",
    "            print(']')\n",
    "        print(u'\\u2514'+u'\\u2500' * w + u'\\u2518')  \n",
    "\n",
    "def compare(left: set, right: set):\n",
    "    if len(left) == len(right):\n",
    "        for i in range(len(left)):\n",
    "            if left[i] != right[i]:\n",
    "                return left[i] < right[i]\n",
    "    return left < right\n"
   ]
  },
  {
   "cell_type": "markdown",
   "metadata": {},
   "source": [
    "### Generate $\\mathcal{A}_n^2$"
   ]
  },
  {
   "cell_type": "markdown",
   "metadata": {},
   "source": [
    "> Let $|\\cdot|$ denotes cardinality and $\\Delta$ denote symmetric different"
   ]
  },
  {
   "cell_type": "code",
   "execution_count": 34,
   "metadata": {},
   "outputs": [],
   "source": [
    "def Delta(left: set, right: set):\n",
    "    return left.symmetric_difference(right)\n",
    "\n",
    "def Cardi(x: set):\n",
    "    return len(x)\n",
    "\n",
    "def legal(alpha_i: set, alpha_i_1: set):\n",
    "    return Cardi(alpha_i) <= Cardi(alpha_i_1) and len(Delta(alpha_i, alpha_i_1)) <= 2"
   ]
  },
  {
   "cell_type": "markdown",
   "metadata": {},
   "source": [
    "> Let $n=2^m$, $\\Omega$ be a set of $m$ element such that $|\\alpha_i| \\leq |\\alpha_{i+1}|$ and $|\\alpha_i \\Delta \\alpha_{i+1}| \\leq 2$  \n",
    "> Let $\\alpha_0=\\{\\varnothing\\}$, now genereate $\\Omega$"
   ]
  },
  {
   "cell_type": "code",
   "execution_count": 35,
   "metadata": {},
   "outputs": [
    {
     "data": {
      "text/plain": [
       "[set(),\n",
       " {1},\n",
       " {2},\n",
       " {3},\n",
       " {4},\n",
       " {3, 4},\n",
       " {2, 4},\n",
       " {2, 3},\n",
       " {1, 4},\n",
       " {1, 3},\n",
       " {1, 2},\n",
       " {1, 2, 3},\n",
       " {1, 2, 4},\n",
       " {1, 3, 4},\n",
       " {2, 3, 4},\n",
       " {1, 2, 3, 4}]"
      ]
     },
     "execution_count": 35,
     "metadata": {},
     "output_type": "execute_result"
    }
   ],
   "source": [
    "from itertools import chain, combinations\n",
    "\n",
    "# param\n",
    "m = 4\n",
    "# generate \\Omega\n",
    "\n",
    "def create_Omega(_m):\n",
    "    s = list(range(1, _m + 1))\n",
    "    container = chain.from_iterable(combinations(s, r) for r in range(len(s)+1))\n",
    "    map = {i: [] for i in range(1, len(s) + 1)}\n",
    "    for item in container:\n",
    "        if len(item) != 0:\n",
    "            map[len(item)].append(set(item))\n",
    "    res = [set()]\n",
    "    for key, value in map.items():\n",
    "        if key % 2 == 0:\n",
    "            value.reverse()\n",
    "        res.extend(value)\n",
    "    return res\n",
    "\n",
    "def assert_omega(ome, _m):\n",
    "    for i in range(_m - 1):\n",
    "        assert(legal(ome[i], ome[i + 1]))\n",
    "    assert(len(ome) == 2**_m)\n",
    "\n",
    "omega = create_Omega(m)\n",
    "assert_omega(omega, m)\n",
    "omega"
   ]
  },
  {
   "cell_type": "markdown",
   "metadata": {},
   "source": [
    "> $$a_{ij} = \\begin{cases}\n",
    "    -1,\\;\\alpha_j\\bigcap(\\alpha_{i-1}\\bigcup\\alpha_i)=\\alpha_{i-1}\\Delta\\alpha_{i}\\;and\\;|\\alpha_{i-1}\\Delta\\alpha_{i}|=2 \\\\\n",
    "    (-1)^{|\\alpha_{i-1}\\bigcap\\alpha_j| + 1},\\;\\alpha_{j}\\bigcap(\\alpha_{i-1}\\bigcup\\alpha_{i})\\neq\\varnothing\\;but\\;does\\;not\\;meet\\;the\\;condition\\;above \\\\\n",
    "    1,\\;\\alpha_j\\bigcap(\\alpha_{i-1}\\bigcup\\alpha_i)=\\varnothing \\\\\n",
    "\\end{cases}\n",
    "$$"
   ]
  },
  {
   "cell_type": "code",
   "execution_count": 36,
   "metadata": {},
   "outputs": [
    {
     "name": "stdout",
     "output_type": "stream",
     "text": [
      "┌─────────────────────────────────────────────────┐\n",
      " [1 1  1  1  1  -1 -1 -1 -1 -1 -1 1  1  1  1  -1]\n",
      " [1 -1 1  1  1  1  1  1  -1 -1 -1 -1 -1 -1 1  -1]\n",
      " [1 1  -1 1  1  1  -1 -1 1  1  -1 -1 -1 1  -1 -1]\n",
      " [1 1  1  -1 1  -1 1  -1 1  -1 1  -1 1  -1 -1 -1]\n",
      " [1 1  1  1  -1 -1 -1 1  -1 1  1  1  -1 -1 -1 -1]\n",
      " [1 1  1  -1 1  1  1  -1 1  -1 1  -1 1  1  1  1 ]\n",
      " [1 1  -1 1  1  -1 1  -1 1  1  -1 -1 1  -1 -1 -1]\n",
      " [1 1  1  -1 1  -1 -1 1  1  -1 1  1  -1 -1 -1 -1]\n",
      " [1 -1 1  1  -1 1  1  -1 -1 1  1  -1 1  1  -1 -1]\n",
      " [1 1  1  -1 1  -1 1  -1 -1 1  1  1  -1 -1 -1 -1]\n",
      " [1 1  -1 1  1  1  -1 -1 1  -1 1  -1 1  -1 -1 -1]\n",
      " [1 1  1  -1 1  -1 1  1  1  1  -1 -1 -1 1  1  -1]\n",
      " [1 1  1  1  -1 -1 1  -1 1  -1 -1 1  -1 -1 -1 1 ]\n",
      " [1 1  1  -1 1  1  -1 -1 -1 1  -1 -1 1  -1 -1 1 ]\n",
      " [1 1  -1 1  1  -1 1  1  -1 -1 -1 -1 -1 1  -1 1 ]\n",
      " [1 -1 1  1  1  -1 -1 -1 1  1  1  -1 -1 -1 1  1 ]\n",
      "└─────────────────────────────────────────────────┘\n"
     ]
    }
   ],
   "source": [
    "def query_element(i: int, j: int, _omega: list) -> int:\n",
    "    alpha_j = _omega[j]\n",
    "    alpha_i_1 = _omega[i - 1]\n",
    "    alpha_i = _omega[i]\n",
    "\n",
    "    if alpha_j.intersection(alpha_i_1.union(alpha_i)) == Delta(alpha_i_1, alpha_i) \\\n",
    "        and Cardi(Delta(alpha_i_1, alpha_i)) == 2:\n",
    "        return -1\n",
    "    elif Cardi(alpha_j.intersection(alpha_i_1.union(alpha_i))) != 0:\n",
    "        return (-1)**(Cardi(alpha_i_1.intersection(alpha_j)) + 1)\n",
    "    elif Cardi(alpha_j.intersection(alpha_i_1.union(alpha_i))) == 0:\n",
    "        return 1\n",
    "    else:\n",
    "        raise ValueError(\"Undefined behavior!\")\n",
    "    \n",
    "def create_A(_omega, _m):\n",
    "    A_mat = np.zeros((2**_m, 2**_m))\n",
    "    for i in range(A_mat.shape[0]):\n",
    "        for j in range(A_mat.shape[1]):\n",
    "            A_mat[i, j] = query_element(i, j, _omega)\n",
    "    return A_mat\n",
    "\n",
    "A_mat = create_A(omega, m)\n",
    "pretty_print(A_mat.astype(int))"
   ]
  },
  {
   "cell_type": "markdown",
   "metadata": {},
   "source": [
    "### Generate $\\mathcal{A}_{n - 1}^1$"
   ]
  },
  {
   "cell_type": "markdown",
   "metadata": {},
   "source": [
    "> Let $B\\in\\mathcal{A}_{n - 1}^1$, $\\Phi(B)\\in\\mathcal{A}_{n}^2\\;$:\n",
    "> $$ \\Phi(B) = \\left(\\begin{array}{cc} \n",
    "1 & 1_{n-1}\\\\\n",
    "-1^T_{n-1} & 2B-J_{n-1}\n",
    "\\end{array}\\right)\n",
    "> $$\n",
    "> And: \n",
    "> $$ \\Phi(B)^{-1} = \\left(\\begin{array}{cc} \n",
    "1-\\frac{1}{2}1_{n-1}B^{-1}1^T_{n-1} & -\\frac{1}{2}1_{n-1}B^{-1}\\\\\n",
    "\\frac{1}{2}B^{-1}1^T_{n-1} & \\frac{1}{2}B^{-1}\n",
    "\\end{array}\\right)\n",
    "> $$"
   ]
  },
  {
   "cell_type": "code",
   "execution_count": 38,
   "metadata": {},
   "outputs": [
    {
     "name": "stdout",
     "output_type": "stream",
     "text": [
      "┌───────────────────────────────┐\n",
      " [1 0 0 0 1 1 1 0 0 0 1 1 1 0 0]\n",
      " [0 1 0 0 1 0 0 1 1 0 1 1 0 1 0]\n",
      " [0 0 1 0 0 1 0 1 0 1 1 0 1 1 0]\n",
      " [0 0 0 1 0 0 1 0 1 1 0 1 1 1 0]\n",
      " [0 0 1 0 1 1 0 1 0 1 1 0 0 0 1]\n",
      " [0 1 0 0 0 1 0 1 1 0 1 0 1 1 0]\n",
      " [0 0 1 0 0 0 1 1 0 1 0 1 1 1 0]\n",
      " [1 0 0 1 1 1 0 0 1 1 1 0 0 1 0]\n",
      " [0 0 1 0 0 1 0 0 1 1 0 1 1 1 0]\n",
      " [0 1 0 0 1 0 0 1 0 1 1 0 1 1 0]\n",
      " [0 0 1 0 0 1 1 1 1 0 1 1 0 0 0]\n",
      " [0 0 0 1 0 1 0 1 0 0 0 1 1 1 1]\n",
      " [0 0 1 0 1 0 0 0 1 0 1 0 1 1 1]\n",
      " [0 1 0 0 0 1 1 0 0 0 1 1 0 1 1]\n",
      " [1 0 0 0 0 0 0 1 1 1 1 1 1 0 1]\n",
      "└───────────────────────────────┘\n"
     ]
    }
   ],
   "source": [
    "def create_A_1_mat(A_2_mat):\n",
    "    A_1_mat = A_2_mat.copy()\n",
    "    for i in range(1, A_1_mat.shape[0]):\n",
    "        A_1_mat[i, :] = A_1_mat[i, :] * -1\n",
    "\n",
    "    for j in range(1, A_1_mat.shape[1]):\n",
    "        if A_1_mat[0, j] == -1:\n",
    "            A_1_mat[:, j] = A_1_mat[:, j] * -1\n",
    "\n",
    "    A_1_mat = (A_1_mat[1:, 1:] + np.ones(2**m - 1)) * 0.5\n",
    "    assert(A_1_mat.max() == 1 and A_1_mat.min() == 0)\n",
    "    return A_1_mat\n",
    "\n",
    "pretty_print(create_A_1_mat(A_mat).astype(int))"
   ]
  },
  {
   "cell_type": "markdown",
   "metadata": {},
   "source": [
    "### Verify $χ(A')=2^{\\frac{1}{2}nlogn - n(1+o(1))}$"
   ]
  },
  {
   "cell_type": "code",
   "execution_count": 47,
   "metadata": {},
   "outputs": [
    {
     "name": "stdout",
     "output_type": "stream",
     "text": [
      "m = 2, n = 4, χ(A) = 1.0, o(1) term = 0.000\n",
      "m = 3, n = 8, χ(A) = 3.0, o(1) term = 0.302\n",
      "m = 4, n = 16, χ(A) = 4.404958677685952, o(1) term = 0.866\n",
      "m = 5, n = 32, χ(A) = 21.00217650271054, o(1) term = 1.363\n",
      "m = 6, n = 64, χ(A) = 2.519331046887332, o(1) term = 1.979\n",
      "m = 7, n = 128, χ(A) = 1.5709484387990664, o(1) term = 2.495\n",
      "m = 8, n = 256, χ(A) = 1.680128626116598, o(1) term = 2.997\n",
      "m = 9, n = 512, χ(A) = 4.816800315108816, o(1) term = 3.496\n",
      "m = 10, n = 1024, χ(A) = 46.762451359434834, o(1) term = 3.995\n",
      "m = 11, n = 2048, χ(A) = 13.225766859913705, o(1) term = 4.498\n"
     ]
    }
   ],
   "source": [
    "from math import log\n",
    "\n",
    "def funcX(A):\n",
    "    return np.absolute(np.matrix(A).I).max()\n",
    "\n",
    "for m in range(2, 12):\n",
    "    omega = create_Omega(m)\n",
    "    assert_omega(omega, m)\n",
    "    A_mat = create_A(omega, m)\n",
    "    A_1_mat = create_A_1_mat(A_mat)\n",
    "    X_A = funcX(A_1_mat)\n",
    "    n = A_1_mat.shape[0] + 1\n",
    "    o_1 = (0.5 * n * log(n, 2) - n - log(X_A, 2)) / n\n",
    "    print(\"m = {m_term}, n = {n_term}, χ(A) = {X_A_term}, o(1) term = {o_1_term:.3f}\".format(m_term=m, n_term=n, X_A_term=X_A, o_1_term=o_1))"
   ]
  },
  {
   "cell_type": "markdown",
   "metadata": {},
   "source": [
    "### Generate matrix $C$"
   ]
  },
  {
   "cell_type": "code",
   "execution_count": 63,
   "metadata": {},
   "outputs": [
    {
     "name": "stdout",
     "output_type": "stream",
     "text": [
      "┌───────────────────────────────────────────────────┐\n",
      " [1 0 0 0 0 0 0 0 0 0 0 0 0 0 0 0 0 0 0 0 0 0 0 0 0]\n",
      " [0 1 0 0 0 0 0 0 0 0 0 0 0 0 0 0 0 0 0 0 0 0 0 0 0]\n",
      " [1 0 1 0 0 0 0 0 0 0 0 0 0 0 0 0 0 0 0 0 0 0 0 0 0]\n",
      " [0 0 1 1 0 0 1 0 0 1 0 0 0 0 0 0 0 0 0 0 0 0 0 0 0]\n",
      " [0 0 0 0 1 0 0 1 0 1 0 0 0 0 0 0 0 0 0 0 0 0 0 0 0]\n",
      " [0 0 0 0 0 1 0 0 1 1 0 0 0 0 0 0 0 0 0 0 0 0 0 0 0]\n",
      " [0 0 0 0 1 0 1 1 0 0 0 0 0 0 0 0 0 0 0 0 0 0 0 0 0]\n",
      " [0 0 0 1 0 0 0 1 0 1 0 0 0 0 0 0 0 0 0 0 0 0 0 0 0]\n",
      " [0 0 0 0 1 0 0 0 1 1 0 0 0 0 0 0 0 0 0 0 0 0 0 0 0]\n",
      " [0 0 0 0 0 1 1 1 0 1 0 0 0 0 0 0 0 0 0 0 0 0 0 0 0]\n",
      " [0 0 0 0 0 0 0 0 0 1 1 0 0 0 1 1 1 0 0 0 1 1 1 0 0]\n",
      " [0 0 0 0 0 0 0 0 0 0 0 1 0 0 1 0 0 1 1 0 1 1 0 1 0]\n",
      " [0 0 0 0 0 0 0 0 0 0 0 0 1 0 0 1 0 1 0 1 1 0 1 1 0]\n",
      " [0 0 0 0 0 0 0 0 0 0 0 0 0 1 0 0 1 0 1 1 0 1 1 1 0]\n",
      " [0 0 0 0 0 0 0 0 0 0 0 0 1 0 1 1 0 1 0 1 1 0 0 0 1]\n",
      " [0 0 0 0 0 0 0 0 0 0 0 1 0 0 0 1 0 1 1 0 1 0 1 1 0]\n",
      " [0 0 0 0 0 0 0 0 0 0 0 0 1 0 0 0 1 1 0 1 0 1 1 1 0]\n",
      " [0 0 0 0 0 0 0 0 0 0 1 0 0 1 1 1 0 0 1 1 1 0 0 1 0]\n",
      " [0 0 0 0 0 0 0 0 0 0 0 0 1 0 0 1 0 0 1 1 0 1 1 1 0]\n",
      " [0 0 0 0 0 0 0 0 0 0 0 1 0 0 1 0 0 1 0 1 1 0 1 1 0]\n",
      " [0 0 0 0 0 0 0 0 0 0 0 0 1 0 0 1 1 1 1 0 1 1 0 0 0]\n",
      " [0 0 0 0 0 0 0 0 0 0 0 0 0 1 0 1 0 1 0 0 0 1 1 1 1]\n",
      " [0 0 0 0 0 0 0 0 0 0 0 0 1 0 1 0 0 0 1 0 1 0 1 1 1]\n",
      " [0 0 0 0 0 0 0 0 0 0 0 1 0 0 0 1 1 0 0 0 1 1 0 1 1]\n",
      " [0 0 0 0 0 0 0 0 0 0 1 0 0 0 0 0 0 1 1 1 1 1 1 0 1]\n",
      "└───────────────────────────────────────────────────┘\n"
     ]
    }
   ],
   "source": [
    "def square_operator(S, T):\n",
    "    top_right = np.zeros((S.shape[0], T.shape[1]),dtype=int)\n",
    "    btn_left = np.zeros((T.shape[0], S.shape[1]),dtype=int)\n",
    "    if btn_left.shape[1] > 0:\n",
    "        btn_left[0, -1] = 1\n",
    "    return np.asarray(np.bmat([[S, top_right], [btn_left, T]]))\n",
    "\n",
    "res = None\n",
    "\n",
    "for m in range(2, 5):\n",
    "    omega = create_Omega(m)\n",
    "    assert_omega(omega, m)\n",
    "    A_mat = create_A(omega, m)\n",
    "    A_1_mat = create_A_1_mat(A_mat)\n",
    "    res = A_1_mat if res is None else square_operator(res, A_1_mat)\n",
    "\n",
    "pretty_print(res.astype(int))"
   ]
  },
  {
   "cell_type": "code",
   "execution_count": 59,
   "metadata": {},
   "outputs": [
    {
     "data": {
      "text/plain": [
       "array([[ 1,  2,  3,  0,  0],\n",
       "       [ 4,  5,  6,  0,  0],\n",
       "       [ 0,  0,  1,  7,  8],\n",
       "       [ 0,  0,  0,  9, 10]])"
      ]
     },
     "execution_count": 59,
     "metadata": {},
     "output_type": "execute_result"
    }
   ],
   "source": [
    "S = np.array([[1, 2, 3], \n",
    "              [4, 5, 6]])    \n",
    "T = np.array([[7, 8], \n",
    "              [9, 10]])\n",
    "square_operator(S, T)"
   ]
  },
  {
   "cell_type": "code",
   "execution_count": null,
   "metadata": {},
   "outputs": [],
   "source": []
  }
 ],
 "metadata": {
  "kernelspec": {
   "display_name": "Python 3",
   "language": "python",
   "name": "python3"
  },
  "language_info": {
   "codemirror_mode": {
    "name": "ipython",
    "version": 3
   },
   "file_extension": ".py",
   "mimetype": "text/x-python",
   "name": "python",
   "nbconvert_exporter": "python",
   "pygments_lexer": "ipython3",
   "version": "3.11.6"
  }
 },
 "nbformat": 4,
 "nbformat_minor": 2
}
